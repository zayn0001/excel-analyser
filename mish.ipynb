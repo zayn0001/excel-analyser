{
 "cells": [
  {
   "cell_type": "code",
   "execution_count": 19,
   "metadata": {},
   "outputs": [],
   "source": [
    "import openai\n",
    "client = openai.OpenAI()"
   ]
  },
  {
   "cell_type": "code",
   "execution_count": 7,
   "metadata": {},
   "outputs": [],
   "source": [
    "import base64\n",
    "import io\n",
    "\n",
    "import pandas as pd\n",
    "\n",
    "from functions import upload_image_to_imgbb\n",
    "\"thread_Q7IwalSVzZ4CjNXV6US2Np0y\"\n",
    "def get_messages(thread_id):\n",
    "    messages = client.beta.threads.messages.list(\n",
    "                thread_id=thread_id,\n",
    "            )\n",
    "\n",
    "    mymess = []\n",
    "    for message in messages:\n",
    "        role = message.role\n",
    "        contents = message.content\n",
    "\n",
    "        if contents[0].type == \"image_file\":\n",
    "            \n",
    "            image_file_id = contents[0].image_file.file_id\n",
    "            text = contents[1].text.value\n",
    "            \n",
    "            image_data = client.files.content(image_file_id)\n",
    "            image_data_bytes = image_data.read()\n",
    "            image_base64 = base64.b64encode(image_data_bytes).decode('utf-8')\n",
    "            image_url = upload_image_to_imgbb(image_base64)\n",
    "            \n",
    "            \n",
    "            content={\n",
    "                \"image\": image_url,\n",
    "                \"text\": text\n",
    "            }\n",
    "            \n",
    "            \n",
    "            \n",
    "        elif contents[0].text.annotations:\n",
    "            csvfileid = contents[0].text.annotations[0].file_path.file_id\n",
    "            filecont =  client.files.content(csvfileid)\n",
    "            data = filecont.read()  \n",
    "            csv_data_str = data.decode('utf-8') \n",
    "            df = pd.read_csv(io.StringIO(csv_data_str))\n",
    "            dfdict = df.to_dict(orient=\"records\")\n",
    "\n",
    "            \n",
    "            content={\"json\":dfdict}\n",
    "            \n",
    "\n",
    "\n",
    "        elif contents[0].type == \"text\":\n",
    "            \n",
    "            content={\n",
    "                \"text\": contents[0].text.value\n",
    "            }\n",
    "        mymess.append({\"role\":role, \"content\":content})\n",
    "    return mymess\n",
    "            "
   ]
  },
  {
   "cell_type": "code",
   "execution_count": 10,
   "metadata": {},
   "outputs": [
    {
     "name": "stdout",
     "output_type": "stream",
     "text": [
      "https://i.ibb.co/DprJWQR/ba8b720ecc93.png\n"
     ]
    },
    {
     "data": {
      "text/plain": [
       "[{'role': 'assistant',\n",
       "  'content': {'image': 'https://i.ibb.co/DprJWQR/ba8b720ecc93.png',\n",
       "   'text': 'Here is the pie chart showing the distribution of different product categories sold. The categories include Sweaters, T-shirts, Jeans, and Shoes, each making up approximately a quarter of the total sales.'}},\n",
       " {'role': 'assistant',\n",
       "  'content': {'text': \"I have loaded the file and examined the data structure. It consists of various columns including `CATEGORY`, which will be used to generate a pie chart that displays the distribution of different product categories sold.\\n\\nLet's proceed with constructing the pie chart.\"}}]"
      ]
     },
     "execution_count": 10,
     "metadata": {},
     "output_type": "execute_result"
    }
   ],
   "source": [
    "get_messages(\"thread_Fnuwe2ugDHkr8oGfXR8mNSat\")"
   ]
  },
  {
   "cell_type": "code",
   "execution_count": 1,
   "metadata": {},
   "outputs": [],
   "source": [
    "import functions"
   ]
  },
  {
   "cell_type": "code",
   "execution_count": 2,
   "metadata": {},
   "outputs": [
    {
     "data": {
      "text/plain": [
       "'sales'"
      ]
     },
     "execution_count": 2,
     "metadata": {},
     "output_type": "execute_result"
    }
   ],
   "source": [
    "functions.get_dataset_name(datasets=[\"products\", \"sales\"], question=\"How much was the net loss in the year 2023\")"
   ]
  },
  {
   "cell_type": "code",
   "execution_count": 2,
   "metadata": {},
   "outputs": [
    {
     "data": {
      "text/plain": [
       "b'<!DOCTYPE html><html><head> <meta charset=\"UTF-8\"> <title>File Examples | Download redirect...</title> <meta name=\"description\" content=\"Download redirect page.\" > <meta name=\"viewport\" content=\"width=device-width, initial-scale=1\"> <link href=\"https://fonts.googleapis.com/css?family=Catamaran:100,200,300,400,500,600,700,800,900\" rel=\"stylesheet\"> <style>h2{font-family: Catamaran,Helvetica,Arial,sans-serif; font-weight: 200; font-size: 50px; color: #333;}section{padding-top: 10%; max-width:100%; text-align: center;}a{color: #00CC66;}a:focus{outline:none; outline-offset:inherit;}@media (max-device-width: 1027px){body{text-align:center; font-size:larger;}section{max-width: 90%;}}@media (max-device-width: 640px){section{max-width: 97%;}}</style></head><body> <section> <h2>Downloading...</h2> <em>Please wait a moment</em><br/><br/><script>document.write(\\'<a href=\"\\' + document.referrer + \\'\">[Go Back]</a>\\');</script></section><script>document.addEventListener(\\'DOMContentLoaded\\', function(){setTimeout(function (){url=window.location.href.replace(\\'file-examples.com/wp-content/storage/\\',\\'file-examples.com/storage/fe4e1227086659fa1a24064/\\'); window.location.replace(url);}, 3000);}, false);</script></body></html>\\n'"
      ]
     },
     "execution_count": 2,
     "metadata": {},
     "output_type": "execute_result"
    }
   ],
   "source": [
    "functions.get_file_stream_from_api(\"https://file-examples.com/storage/fe4e1227086659fa1a24064/2017/02/file_example_XLSX_100.xlsx\")"
   ]
  }
 ],
 "metadata": {
  "kernelspec": {
   "display_name": "three-eleven",
   "language": "python",
   "name": "python3"
  },
  "language_info": {
   "codemirror_mode": {
    "name": "ipython",
    "version": 3
   },
   "file_extension": ".py",
   "mimetype": "text/x-python",
   "name": "python",
   "nbconvert_exporter": "python",
   "pygments_lexer": "ipython3",
   "version": "3.11.3"
  }
 },
 "nbformat": 4,
 "nbformat_minor": 2
}
