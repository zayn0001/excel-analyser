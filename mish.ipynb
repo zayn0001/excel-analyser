{
 "cells": [
  {
   "cell_type": "code",
   "execution_count": 2,
   "metadata": {},
   "outputs": [],
   "source": [
    "import openai\n",
    "client = openai.OpenAI()"
   ]
  },
  {
   "cell_type": "code",
   "execution_count": 7,
   "metadata": {},
   "outputs": [],
   "source": [
    "import base64\n",
    "import io\n",
    "\n",
    "import pandas as pd\n",
    "\n",
    "from functions import upload_image_to_imgbb\n",
    "\"thread_Q7IwalSVzZ4CjNXV6US2Np0y\"\n",
    "def get_messages(thread_id):\n",
    "    messages = client.beta.threads.messages.list(\n",
    "                thread_id=thread_id,\n",
    "            )\n",
    "\n",
    "    mymess = []\n",
    "    for message in messages:\n",
    "        role = message.role\n",
    "        contents = message.content\n",
    "\n",
    "        if contents[0].type == \"image_file\":\n",
    "            \n",
    "            image_file_id = contents[0].image_file.file_id\n",
    "            text = contents[1].text.value\n",
    "            \n",
    "            image_data = client.files.content(image_file_id)\n",
    "            image_data_bytes = image_data.read()\n",
    "            image_base64 = base64.b64encode(image_data_bytes).decode('utf-8')\n",
    "            image_url = upload_image_to_imgbb(image_base64)\n",
    "            \n",
    "            \n",
    "            content={\n",
    "                \"image\": image_url,\n",
    "                \"text\": text\n",
    "            }\n",
    "            \n",
    "            \n",
    "            \n",
    "        elif contents[0].text.annotations:\n",
    "            csvfileid = contents[0].text.annotations[0].file_path.file_id\n",
    "            filecont =  client.files.content(csvfileid)\n",
    "            data = filecont.read()  \n",
    "            csv_data_str = data.decode('utf-8') \n",
    "            df = pd.read_csv(io.StringIO(csv_data_str))\n",
    "            dfdict = df.to_dict(orient=\"records\")\n",
    "\n",
    "            \n",
    "            content={\"json\":dfdict}\n",
    "            \n",
    "\n",
    "\n",
    "        elif contents[0].type == \"text\":\n",
    "            \n",
    "            content={\n",
    "                \"text\": contents[0].text.value\n",
    "            }\n",
    "        mymess.append({\"role\":role, \"content\":content})\n",
    "    return mymess\n",
    "            "
   ]
  },
  {
   "cell_type": "code",
   "execution_count": 8,
   "metadata": {},
   "outputs": [
    {
     "name": "stdout",
     "output_type": "stream",
     "text": [
      "https://i.ibb.co/9tcwc4b/f7ea679330b1.png\n"
     ]
    },
    {
     "data": {
      "text/plain": [
       "[{'role': 'assistant',\n",
       "  'content': {'text': 'Here is the bar graph showing the distribution of product variants in the dataset. Each bar represents the count of occurrences for each variant. \\n\\n1. **S WHITE**: Approximately 22 occurrences\\n2. **M WHITE**: Approximately 22 occurrences\\n3. **L BLACK**: Approximately 22 occurrences\\n4. **XL RED**: Approximately 22 occurrences\\n\\nThis bar graph provides a visual representation of how many times each product variant appears in the dataset.'}},\n",
       " {'role': 'assistant',\n",
       "  'content': {'text': 'Here is the bar graph showing the distribution of product variants in the dataset. Each bar represents the count of occurrences for each variant. \\n\\n1. **S WHITE**: Approximately 25 occurrences\\n2. **M WHITE**: Approximately 25 occurrences\\n3. **L BLACK**: Approximately 22 occurrences\\n4. **XL RED**: Approximately 22 occurrences\\n\\nThis bar graph provides a visual representation of how many times each product variant appears in the dataset.'}},\n",
       " {'role': 'assistant',\n",
       "  'content': {'image': 'https://i.ibb.co/9tcwc4b/f7ea679330b1.png',\n",
       "   'text': 'Here is the bar graph showing the distribution of product variants in the dataset. Each bar represents the count of occurrences for each variant.'}}]"
      ]
     },
     "execution_count": 8,
     "metadata": {},
     "output_type": "execute_result"
    }
   ],
   "source": [
    "get_messages(\"thread_Q7IwalSVzZ4CjNXV6US2Np0y\")"
   ]
  },
  {
   "cell_type": "code",
   "execution_count": null,
   "metadata": {},
   "outputs": [],
   "source": []
  }
 ],
 "metadata": {
  "kernelspec": {
   "display_name": "three-eleven",
   "language": "python",
   "name": "python3"
  },
  "language_info": {
   "codemirror_mode": {
    "name": "ipython",
    "version": 3
   },
   "file_extension": ".py",
   "mimetype": "text/x-python",
   "name": "python",
   "nbconvert_exporter": "python",
   "pygments_lexer": "ipython3",
   "version": "3.11.3"
  }
 },
 "nbformat": 4,
 "nbformat_minor": 2
}
